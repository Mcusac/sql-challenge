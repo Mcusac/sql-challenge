{
 "cells": [
  {
   "cell_type": "code",
   "execution_count": null,
   "id": "3d5b0d79",
   "metadata": {},
   "outputs": [],
   "source": [
    "# Import Dependencies\n",
    "import pandas as pd\n",
    "import matplotlib.pyplot as plt\n",
    "\n",
    "# Import the SQL database into Pandas.\n",
    "from sqlalchemy import create_engine\n",
    "from sqlalchemy.ext.declarative import declarative_base\n",
    "Base = declarative_base()\n",
    "\n",
    "# Create Database Connection\n",
    "engine = create_engine('postgresql://localhost:5432/Employee_db')\n",
    "connection = engine.connect()\n"
   ]
  },
  {
   "cell_type": "code",
   "execution_count": null,
   "id": "5d27e5b4",
   "metadata": {},
   "outputs": [],
   "source": [
    "# Create Classes\n",
    "class department(Base):\n",
    "    __tablename__ = 'departments'\n",
    "    dept_no = Column(String)\n",
    "    dept_name = Column(String)\n",
    "    \n",
    "class dept_emp(Base):\n",
    "    __tablename__ = 'dept_emp'\n",
    "    emp_no = Column(Integer)\n",
    "    dept_no = Column(String)\n",
    "    \n",
    "class dept_manager(Base):\n",
    "    __tablename__ = 'dept_manager'\n",
    "    dept_no = Column(String)\n",
    "    emp_no = Column(Integer)\n",
    "    \n",
    "class employees(Base):\n",
    "    __tablename__ = 'employees'\n",
    "    emp_no = Column(Integer)\n",
    "    emp_title_id = Column(String)\n",
    "    birth_date = Column(Date)\n",
    "    first_name = Column(String)\n",
    "    last_name = Column(String)\n",
    "    sex = Column(String)\n",
    "    hire_date = Column(Date)\n",
    "    \n",
    "class salaries(Base):\n",
    "    __tablename__ = 'salaries'\n",
    "    emp_no = Column(Integer)\n",
    "    salary = Column(Integer)\n",
    "    \n",
    "class titles(Base):\n",
    "    __tablename__ = 'titles'\n",
    "    title_id = Column(String)\n",
    "    title = Column(String)"
   ]
  },
  {
   "cell_type": "code",
   "execution_count": null,
   "id": "7d49e353",
   "metadata": {},
   "outputs": [],
   "source": [
    "# Create a histogram to visualize the most common salary ranges for employees.\n",
    "#salaries.plot(kind='hist')\n",
    "plt.hist()"
   ]
  },
  {
   "cell_type": "code",
   "execution_count": null,
   "id": "eac1aab0",
   "metadata": {},
   "outputs": [],
   "source": [
    "# Create a bar chart of average salary by title.\n",
    "plt.bar()"
   ]
  }
 ],
 "metadata": {
  "kernelspec": {
   "display_name": "Python 3 (ipykernel)",
   "language": "python",
   "name": "python3"
  },
  "language_info": {
   "codemirror_mode": {
    "name": "ipython",
    "version": 3
   },
   "file_extension": ".py",
   "mimetype": "text/x-python",
   "name": "python",
   "nbconvert_exporter": "python",
   "pygments_lexer": "ipython3",
   "version": "3.9.7"
  }
 },
 "nbformat": 4,
 "nbformat_minor": 5
}
